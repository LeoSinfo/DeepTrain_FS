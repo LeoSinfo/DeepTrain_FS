{
 "cells": [
  {
   "cell_type": "markdown",
   "metadata": {
    "id": "14oCwXIgDe9O"
   },
   "source": [
    "# 批訓練\n",
    "目的：提升訓練模型的效率\n",
    "\n",
    "[來源解釋](https://ithelp.ithome.com.tw/articles/10219945)"
   ]
  },
  {
   "cell_type": "markdown",
   "metadata": {
    "id": "UjO51TTzEdSm"
   },
   "source": [
    "\n",
    "\n",
    "1.   Epoch(一代訓練) ：使用訓練資料集的全部數據進行一次訓練\n",
    "2.   Batch(一批數據) ：使用訓練資料集的一小部分對模型進行一次反向更新\n",
    "3.   Iteration(一次訓練)  ：使用一個Batch的數據進行一次參數更新的過程\n",
    "\n",
    "\n",
    "\n"
   ]
  },
  {
   "cell_type": "code",
   "execution_count": null,
   "metadata": {
    "id": "1c8MlGERNfkm"
   },
   "outputs": [],
   "source": [
    "import torch\n",
    "import torch.utils.data as Data"
   ]
  },
  {
   "cell_type": "markdown",
   "metadata": {
    "id": "eDKn84rhOi8-"
   },
   "source": [
    "## Batch = 5 每次只取5筆資料進行更新"
   ]
  },
  {
   "cell_type": "code",
   "execution_count": null,
   "metadata": {
    "id": "65yW-vvJNvT5"
   },
   "outputs": [],
   "source": [
    "BATCH_SIZE=5"
   ]
  },
  {
   "cell_type": "markdown",
   "metadata": {
    "id": "oWqAacDESKuQ"
   },
   "source": [
    "## 建立數據"
   ]
  },
  {
   "cell_type": "code",
   "execution_count": null,
   "metadata": {
    "id": "I2aEQxtNO0dY"
   },
   "outputs": [],
   "source": [
    "x = torch.unsqueeze(torch.linspace(-1, 1, 100), dim=1)  # x data (tensor), shape=(100, 1)\n",
    "y = x.pow(2) + 0.2*torch.rand(x.size())  # noisy y data (tensor), shape=(100, 1)"
   ]
  },
  {
   "cell_type": "markdown",
   "metadata": {
    "id": "lXQx4bQWTH6z"
   },
   "source": [
    "## 資料放入Batch中\n",
    "[詳細參數設定](https://zhuanlan.zhihu.com/p/117270644)"
   ]
  },
  {
   "cell_type": "code",
   "execution_count": null,
   "metadata": {
    "id": "2e48NGy8TGCT"
   },
   "outputs": [],
   "source": [
    "torch_dataset = Data.TensorDataset(x, y)\n",
    "loader = Data.DataLoader(\n",
    "    dataset=torch_dataset,      # torch TensorDataset format\n",
    "    batch_size=BATCH_SIZE,      # mini batch size\n",
    "    shuffle=True,           # random shuffle for training\n",
    "    num_workers=2,          # subprocesses for loading data 提取出數據時，是用兩個進程來提取\n",
    ")"
   ]
  },
  {
   "cell_type": "markdown",
   "metadata": {
    "id": "eVOkV_6MSYlA"
   },
   "source": [
    "# 建立神經網路"
   ]
  },
  {
   "cell_type": "code",
   "execution_count": null,
   "metadata": {
    "id": "n96xLg-hSXtB"
   },
   "outputs": [],
   "source": [
    "net1 = torch.nn.Sequential(\n",
    "    torch.nn.Linear(1,10),\n",
    "    torch.nn.ReLU(),\n",
    "    torch.nn.Linear(10,1)\n",
    ")"
   ]
  },
  {
   "cell_type": "markdown",
   "metadata": {
    "id": "d3P6Yw8wX-dl"
   },
   "source": [
    "# 訓練神經網路"
   ]
  },
  {
   "cell_type": "code",
   "execution_count": null,
   "metadata": {
    "id": "IxQb_U_7X-ML"
   },
   "outputs": [],
   "source": [
    "optimizer = torch.optim.SGD(net1.parameters(),lr=0.3)\n",
    "loss_func = torch.nn.MSELoss()\n",
    "#訓練3*[(20=100/5)*5]筆資料\n",
    "for epoch in range(3):   # train entire dataset 3 times\n",
    "      for step, (batch_x, batch_y) in enumerate(loader):  # for each training step\n",
    "            prediction = net1(batch_x)\n",
    "            loss = loss_func(prediction,batch_y)\n",
    "            optimizer.zero_grad()\n",
    "            loss.backward()\n",
    "            optimizer.step()\n",
    "            #print('Epoch: ', epoch, '| Step: ', step, '| batch x: ',batch_x.numpy(), '| batch y: ', batch_y.numpy())"
   ]
  },
  {
   "cell_type": "code",
   "execution_count": null,
   "metadata": {
    "colab": {
     "base_uri": "https://localhost:8080/",
     "height": 244
    },
    "id": "LZWHuaWbYes1",
    "outputId": "622860e3-fa73-4b0f-ed69-6d2974579310"
   },
   "outputs": [
    {
     "data": {
      "text/plain": [
       "[<matplotlib.lines.Line2D at 0x7f262fa0c630>]"
      ]
     },
     "execution_count": 8,
     "metadata": {
      "tags": []
     },
     "output_type": "execute_result"
    },
    {
     "data": {
      "image/png": "[encoded data removed]",
      "text/plain": [
       "<Figure size 720x216 with 1 Axes>"
      ]
     },
     "metadata": {
      "needs_background": "light",
      "tags": []
     },
     "output_type": "display_data"
    }
   ],
   "source": [
    "import matplotlib.pyplot as plt\n",
    "prediction = net1(x)\n",
    "plt.figure(1, figsize=(10, 3))\n",
    "plt.subplot(131)\n",
    "plt.title('Net1')\n",
    "plt.scatter(x.data.numpy(), y.data.numpy())\n",
    "plt.plot(x.data.numpy(), prediction.data.numpy(), 'r-', lw=5)"
   ]
  },
  {
   "cell_type": "markdown",
   "metadata": {
    "id": "m2TvdcvGmiuc"
   },
   "source": [
    "# 使用批訓練建模的MSE和100次全建模比較"
   ]
  },
  {
   "cell_type": "code",
   "execution_count": null,
   "metadata": {
    "id": "BRwBHChbZF2s"
   },
   "outputs": [],
   "source": [
    "#計算MSE\n",
    "prediction = net1(x)\n",
    "#prediction.detach().numpy() 預測\n",
    "#y.detach().numpy()      Ans"
   ]
  },
  {
   "cell_type": "markdown",
   "metadata": {
    "id": "YGiPDGNnmzkg"
   },
   "source": [
    "### 批建模MSE"
   ]
  },
  {
   "cell_type": "code",
   "execution_count": null,
   "metadata": {
    "id": "6afmJQvzkqL1"
   },
   "outputs": [],
   "source": [
    "def MSE_calculate(list1,list2):\n",
    "    MSE=0\n",
    "    for i in range(len(list1)):\n",
    "        MSE=MSE+(list1[i]-list2[i])**2\n",
    "    return MSE"
   ]
  },
  {
   "cell_type": "code",
   "execution_count": null,
   "metadata": {
    "colab": {
     "base_uri": "https://localhost:8080/",
     "height": 34
    },
    "id": "9Aypshn-l1LS",
    "outputId": "b04e54dd-1b68-49e5-b53d-26a666d4e660"
   },
   "outputs": [
    {
     "data": {
      "text/plain": [
       "array([2.5598874], dtype=float32)"
      ]
     },
     "execution_count": 11,
     "metadata": {
      "tags": []
     },
     "output_type": "execute_result"
    }
   ],
   "source": [
    "MSE_calculate(y.detach().numpy(),prediction.detach().numpy())"
   ]
  },
  {
   "cell_type": "markdown",
   "metadata": {
    "id": "AeglHTOFomoi"
   },
   "source": [
    "# 用上次的NN試試比較結果"
   ]
  },
  {
   "cell_type": "code",
   "execution_count": null,
   "metadata": {
    "id": "f546rOg3ol6f"
   },
   "outputs": [],
   "source": [
    "net2 = torch.nn.Sequential(\n",
    "    torch.nn.Linear(1,10),\n",
    "    torch.nn.ReLU(),\n",
    "    torch.nn.Linear(10,1)\n",
    ")\n",
    "optimizer = torch.optim.SGD(net2.parameters(),lr=0.3)\n",
    "loss_func = torch.nn.MSELoss()\n",
    "#訓練3*[(20=100/5)*5]筆資料\n",
    "for epoch in range(10000):   # train entire dataset 3 times\n",
    "  prediction = net2(x)\n",
    "  loss = loss_func(prediction,y)\n",
    "  optimizer.zero_grad()\n",
    "  loss.backward()\n",
    "  optimizer.step()"
   ]
  },
  {
   "cell_type": "code",
   "execution_count": null,
   "metadata": {
    "colab": {
     "base_uri": "https://localhost:8080/",
     "height": 244
    },
    "id": "ZI5SB4o415BC",
    "outputId": "ecfabdb9-3a7c-417d-8bd5-a71afec04d48"
   },
   "outputs": [
    {
     "data": {
      "text/plain": [
       "[<matplotlib.lines.Line2D at 0x7f262f2fd710>]"
      ]
     },
     "execution_count": 25,
     "metadata": {
      "tags": []
     },
     "output_type": "execute_result"
    },
    {
     "data": {
      "image/png": "[encoded data removed]",
      "text/plain": [
       "<Figure size 720x216 with 1 Axes>"
      ]
     },
     "metadata": {
      "needs_background": "light",
      "tags": []
     },
     "output_type": "display_data"
    }
   ],
   "source": [
    "prediction = net2(x)\n",
    "plt.figure(1, figsize=(10, 3))\n",
    "plt.subplot(131)\n",
    "plt.title('Net1')\n",
    "plt.scatter(x.data.numpy(), y.data.numpy())\n",
    "plt.plot(x.data.numpy(), prediction.data.numpy(), 'r-', lw=5)"
   ]
  },
  {
   "cell_type": "code",
   "execution_count": null,
   "metadata": {
    "colab": {
     "base_uri": "https://localhost:8080/",
     "height": 34
    },
    "id": "VQdwbfldpYbJ",
    "outputId": "2629a416-094a-40dd-bca8-20dec032b75a"
   },
   "outputs": [
    {
     "data": {
      "text/plain": [
       "array([0.2867266], dtype=float32)"
      ]
     },
     "execution_count": 26,
     "metadata": {
      "tags": []
     },
     "output_type": "execute_result"
    }
   ],
   "source": [
    "prediction = net2(x)\n",
    "MSE_calculate(y.detach().numpy(),prediction.detach().numpy())"
   ]
  }
 ],
 "metadata": {
  "colab": {
   "collapsed_sections": [],
   "name": "BATCH_train",
   "provenance": [],
   "toc_visible": true
  },
  "kernelspec": {
   "display_name": "Python 3",
   "language": "python",
   "name": "python3"
  },
  "language_info": {
   "codemirror_mode": {
    "name": "ipython",
    "version": 3
   },
   "file_extension": ".py",
   "mimetype": "text/x-python",
   "name": "python",
   "nbconvert_exporter": "python",
   "pygments_lexer": "ipython3",
   "version": "3.6.15"
  }
 },
 "nbformat": 4,
 "nbformat_minor": 4
}
