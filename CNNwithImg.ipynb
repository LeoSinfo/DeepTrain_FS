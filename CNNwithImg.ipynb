{
 "cells": [
  {
   "cell_type": "code",
   "execution_count": 79,
   "id": "0b109316",
   "metadata": {},
   "outputs": [],
   "source": [
    "import cv2\n",
    "import pickle\n",
    "import numpy as np\n",
    "from matplotlib import pyplot as plt\n",
    "%matplotlib inline"
   ]
  },
  {
   "cell_type": "code",
   "execution_count": 80,
   "id": "f14d283e",
   "metadata": {},
   "outputs": [],
   "source": [
    "def unpickle(file):\n",
    "    with open(file, 'rb') as fo:\n",
    "        dict = pickle.load(fo, encoding='bytes')\n",
    "    return dict"
   ]
  },
  {
   "cell_type": "markdown",
   "id": "7bf3a65b",
   "metadata": {},
   "source": [
    "# metaData"
   ]
  },
  {
   "cell_type": "code",
   "execution_count": 81,
   "id": "937a70bc",
   "metadata": {},
   "outputs": [],
   "source": [
    "path = 'ImgdataSet/cifar-10-batches-py/batches.meta'"
   ]
  },
  {
   "cell_type": "code",
   "execution_count": 82,
   "id": "486d5915",
   "metadata": {},
   "outputs": [
    {
     "name": "stdout",
     "output_type": "stream",
     "text": [
      "num_cases_per_batch  = 10000\n",
      "lable = 0  | lable_name =b'airplane'\n",
      "lable = 1  | lable_name =b'automobile'\n",
      "lable = 2  | lable_name =b'bird'\n",
      "lable = 3  | lable_name =b'cat'\n",
      "lable = 4  | lable_name =b'deer'\n",
      "lable = 5  | lable_name =b'dog'\n",
      "lable = 6  | lable_name =b'frog'\n",
      "lable = 7  | lable_name =b'horse'\n",
      "lable = 8  | lable_name =b'ship'\n",
      "lable = 9  | lable_name =b'truck'\n",
      "\n",
      "num_vis  = 3072\n"
     ]
    }
   ],
   "source": [
    "meta_data = unpickle(path)#.keys()\n",
    "print(\"num_cases_per_batch  = {}\".format(meta_data[b'num_cases_per_batch']))\n",
    "for i,t in zip(meta_data[b'label_names'],range(len(meta_data[b'label_names']))):\n",
    "    print(\"lable = {}  | lable_name ={}\".format(t,i))\n",
    "print()\n",
    "print(\"num_vis  = {}\".format(meta_data[b'num_vis']))"
   ]
  },
  {
   "cell_type": "markdown",
   "id": "e0d1ec9a",
   "metadata": {},
   "source": [
    "## data in batch"
   ]
  },
  {
   "cell_type": "code",
   "execution_count": 83,
   "id": "d44440d8",
   "metadata": {},
   "outputs": [],
   "source": [
    "pub_path = 'ImgdataSet/cifar-10-batches-py/'\n",
    "data_batch = ['data_batch_1','data_batch_2','data_batch_3','data_batch_4','data_batch_5']"
   ]
  },
  {
   "cell_type": "code",
   "execution_count": 84,
   "id": "38ba82e3",
   "metadata": {},
   "outputs": [],
   "source": [
    "#將所有資料合成dict\n",
    "data = {}\n",
    "for i in data_batch:\n",
    "    temp = unpickle(pub_path+i)\n",
    "    data[i] = temp"
   ]
  },
  {
   "cell_type": "code",
   "execution_count": 85,
   "id": "5411eb5b",
   "metadata": {},
   "outputs": [
    {
     "name": "stdout",
     "output_type": "stream",
     "text": [
      "data_batch number : \n",
      "data_batch_1  |data_batch_2  |data_batch_3  |data_batch_4  |data_batch_5  |\n",
      "In one data_batch desc : \n",
      "b'batch_label'  |b'labels'  |b'data'  |b'filenames'  |"
     ]
    }
   ],
   "source": [
    "print('data_batch number : ')\n",
    "for i in data.keys():\n",
    "    print(i,end = '  |')\n",
    "    \n",
    "print()\n",
    "print('In one data_batch desc : ')\n",
    "for i in data['data_batch_1'].keys():\n",
    "    print(i,end = '  |')"
   ]
  },
  {
   "cell_type": "code",
   "execution_count": 86,
   "id": "0012b3be",
   "metadata": {},
   "outputs": [
    {
     "name": "stdout",
     "output_type": "stream",
     "text": [
      "b'leptodactylus_pentadactylus_s_000004.png'\n",
      "6\n"
     ]
    }
   ],
   "source": [
    "print(data['data_batch_1'][b'filenames'][0])\n",
    "print(data['data_batch_1'][b'labels'][0])"
   ]
  },
  {
   "cell_type": "markdown",
   "id": "56824549",
   "metadata": {},
   "source": [
    "## show picture"
   ]
  },
  {
   "cell_type": "code",
   "execution_count": 87,
   "id": "6cb5544e",
   "metadata": {},
   "outputs": [
    {
     "name": "stdout",
     "output_type": "stream",
     "text": [
      "b'leptodactylus_pentadactylus_s_000004.png'\n",
      "[ 59  43  50 ... 140  84  72]\n",
      "6\n"
     ]
    }
   ],
   "source": [
    "print(data['data_batch_1'][b'filenames'][0])\n",
    "# print(data['data_batch_1'][b'labels'][0])\n",
    "img  = data['data_batch_1'][b'data'][0]\n",
    "class_num = data['data_batch_1'][b'labels'][0]\n",
    "print(img)\n",
    "print(class_num)"
   ]
  },
  {
   "cell_type": "code",
   "execution_count": 88,
   "id": "cd8cbc57",
   "metadata": {},
   "outputs": [],
   "source": [
    "def showImg(image,class_num):\n",
    "    image = np.array(image)\n",
    "    img = image.reshape((32, 32,3), order='F')\n",
    "    plt.imshow(img)\n",
    "    plt.axis('off')\n",
    "    plt.title(\"Class is {}\".format(class_num))\n",
    "    pass"
   ]
  },
  {
   "cell_type": "code",
   "execution_count": 89,
   "id": "25e56c8a",
   "metadata": {},
   "outputs": [
    {
     "data": {
      "image/png": "[encoded data removed]",
      "text/plain": [
       "<Figure size 432x288 with 1 Axes>"
      ]
     },
     "metadata": {
      "needs_background": "light"
     },
     "output_type": "display_data"
    }
   ],
   "source": [
    "showImg(img,class_num)#v將圖案轉正"
   ]
  },
  {
   "cell_type": "markdown",
   "id": "68d97613",
   "metadata": {},
   "source": [
    "# CNN in CPU"
   ]
  },
  {
   "cell_type": "code",
   "execution_count": 90,
   "id": "671586e6",
   "metadata": {},
   "outputs": [],
   "source": [
    "import torch\n",
    "import torch.nn as nn"
   ]
  },
  {
   "cell_type": "markdown",
   "id": "991932f6",
   "metadata": {},
   "source": [
    "## 超參數設計"
   ]
  },
  {
   "cell_type": "code",
   "execution_count": 91,
   "id": "a7fc6dc8",
   "metadata": {},
   "outputs": [],
   "source": [
    "EPOCH = 1        # 跑完幾次所有batchsize              \n",
    "BATCH_SIZE = 50  # 一次訓練的樣本數目\n",
    "LR = 0.001       #學習率"
   ]
  },
  {
   "cell_type": "markdown",
   "id": "58bbb6b6",
   "metadata": {},
   "source": [
    "## CNN"
   ]
  },
  {
   "cell_type": "markdown",
   "id": "cbc42811",
   "metadata": {},
   "source": [
    "積卷核的通道數要和輸入要一樣，舉例來說(32, 32,3)是本次的圖片，共有RGB的深度，所以通道數為3\n",
    "* https://kvirajdatt.medium.com/calculating-output-dimensions-in-a-cnn-for-convolution-and-pooling-layers-with-keras-682960c73870\n",
    "* conv_size = (image_size-kernel_size+padding*2)/stride + 1\n",
    "* pool_size = (image_size-pooling_size)/2 + 1  && depth is same"
   ]
  },
  {
   "cell_type": "code",
   "execution_count": 92,
   "id": "30240e1b",
   "metadata": {
    "jupyter": {
     "source_hidden": true
    }
   },
   "outputs": [],
   "source": [
    "class cnn_net(nn.Module):\n",
    "    def __init__(self):\n",
    "        super(cnn_net,self).__init__()\n",
    "        # 建置各個類神經會用到的模組\n",
    "        # 定義一個卷積層 輸入深度為3 輸出深度16  kernel_size核大小3*3 stride步伐1 piex padding用於處理卷積的邊界情況 == stride (kernel_size-1)/2\n",
    "        self.conv1 = nn.Conv2d(in_channels=3, out_channels=10, kernel_size=3, stride=1, padding=2) #https://www.twblogs.net/a/5eec7f6b7301656afddaa356\n",
    "        # output_size =[(32-3+2*2)/1+1 =34 , 34 ,10]  \n",
    "        self.relu1 = nn.ReLU() # activation\n",
    "        self.pool = nn.MaxPool2d(kernel_size = 2, stride = 2) \n",
    "        # output_size =[ (34-2)/2+1 = 17, 17,10]  \n",
    "        \n",
    "        self.conv2 = nn.Conv2d(in_channels=10, out_channels=5, kernel_size=3, stride=1)  \n",
    "        # output_size =[(17-3)/1+1 , 15 ,5] \n",
    "        self.relu2 = nn.ReLU() # activation\n",
    "        \n",
    "        self.pool2 = nn.MaxPool2d(kernel_size = 3, stride = 2) \n",
    "        # output_size =[(15-3)/2+1 , 7,5] \n",
    "        self.fc = nn.Linear(245,10)\n",
    "        \n",
    "                 \n",
    "    def forward(self,x):\n",
    "        x = self.conv1(x)\n",
    "        x = self.relu1(x)\n",
    "        x = self.pool(x)\n",
    "        x = self.conv2(x)\n",
    "        x = self.relu2(x)\n",
    "        x = self.pool2(x)\n",
    "        out = x.view(-1)\n",
    "        out = self.fc(out)\n",
    "        \n",
    "        \n",
    "        return out\n",
    "    def retrieve_feature(self,x):\n",
    "        feature_map1 = self.relu1(x)\n",
    "        x = self.pool(x)\n",
    "        feature_map2 = self.relu1(x)\n",
    "        \n",
    "        return (feature_map1,feature_map2)"
   ]
  },
  {
   "cell_type": "raw",
   "id": "10cb3b96",
   "metadata": {
    "jupyter": {
     "source_hidden": true
    }
   },
   "source": [
    "EPOCH = 1        # 跑完幾次所有batchsize              \n",
    "BATCH_SIZE = 50  # 一次訓練的樣本數目\n",
    "LR = 0.001       #學習率"
   ]
  },
  {
   "cell_type": "code",
   "execution_count": 93,
   "id": "9fce4804",
   "metadata": {
    "jupyter": {
     "source_hidden": true
    }
   },
   "outputs": [],
   "source": [
    "net = cnn_net()\n",
    "optimizer = torch.optim.Adam(net.parameters(), lr=LR)   # optimize all cnn parameters\n",
    "loss_func = nn.CrossEntropyLoss()   # the target label is not one-hotted"
   ]
  },
  {
   "cell_type": "markdown",
   "id": "87d44db8",
   "metadata": {},
   "source": [
    "## 訓練資料集整理"
   ]
  },
  {
   "cell_type": "code",
   "execution_count": null,
   "id": "2e900313",
   "metadata": {},
   "outputs": [],
   "source": []
  },
  {
   "cell_type": "code",
   "execution_count": null,
   "id": "e493ca79",
   "metadata": {},
   "outputs": [],
   "source": []
  },
  {
   "cell_type": "code",
   "execution_count": null,
   "id": "7e3d8178",
   "metadata": {},
   "outputs": [],
   "source": []
  }
 ],
 "metadata": {
  "kernelspec": {
   "display_name": "Python [conda env:computervisionforcpuonpython3_7vy]",
   "language": "python",
   "name": "conda-env-computervisionforcpuonpython3_7vy-py"
  },
  "language_info": {
   "codemirror_mode": {
    "name": "ipython",
    "version": 3
   },
   "file_extension": ".py",
   "mimetype": "text/x-python",
   "name": "python",
   "nbconvert_exporter": "python",
   "pygments_lexer": "ipython3",
   "version": "3.7.8"
  },
  "toc-autonumbering": true,
  "toc-showcode": false,
  "toc-showmarkdowntxt": true,
  "toc-showtags": false
 },
 "nbformat": 4,
 "nbformat_minor": 5
}
