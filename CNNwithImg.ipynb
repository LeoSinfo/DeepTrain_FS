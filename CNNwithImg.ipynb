{
 "cells": [
  {
   "cell_type": "code",
   "execution_count": 168,
   "id": "20baf805",
   "metadata": {},
   "outputs": [],
   "source": [
    "import cv2\n",
    "import pickle\n",
    "import numpy as np\n",
    "from matplotlib import pyplot as plt\n",
    "%matplotlib inline"
   ]
  },
  {
   "cell_type": "code",
   "execution_count": 169,
   "id": "c2e98da9",
   "metadata": {},
   "outputs": [],
   "source": [
    "def unpickle(file):\n",
    "    with open(file, 'rb') as fo:\n",
    "        dict = pickle.load(fo, encoding='bytes')\n",
    "    return dict"
   ]
  },
  {
   "cell_type": "markdown",
   "id": "953d4494",
   "metadata": {},
   "source": [
    "# metaData"
   ]
  },
  {
   "cell_type": "code",
   "execution_count": 170,
   "id": "3d1368f4",
   "metadata": {},
   "outputs": [],
   "source": [
    "path = 'ImgdataSet/cifar-10-batches-py/batches.meta'"
   ]
  },
  {
   "cell_type": "raw",
   "id": "7b7ea684",
   "metadata": {},
   "source": [
    "classifer_list存放便是類別"
   ]
  },
  {
   "cell_type": "code",
   "execution_count": 171,
   "id": "6e4dcede",
   "metadata": {},
   "outputs": [
    {
     "name": "stdout",
     "output_type": "stream",
     "text": [
      "num_cases_per_batch  = 10000\n",
      "lable = 0  | lable_name =b'airplane'\n",
      "lable = 1  | lable_name =b'automobile'\n",
      "lable = 2  | lable_name =b'bird'\n",
      "lable = 3  | lable_name =b'cat'\n",
      "lable = 4  | lable_name =b'deer'\n",
      "lable = 5  | lable_name =b'dog'\n",
      "lable = 6  | lable_name =b'frog'\n",
      "lable = 7  | lable_name =b'horse'\n",
      "lable = 8  | lable_name =b'ship'\n",
      "lable = 9  | lable_name =b'truck'\n",
      "\n",
      "num_vis  = 3072\n"
     ]
    }
   ],
   "source": [
    "meta_data = unpickle(path)#.keys()\n",
    "classifer_list = []\n",
    "print(\"num_cases_per_batch  = {}\".format(meta_data[b'num_cases_per_batch']))\n",
    "for i,t in zip(meta_data[b'label_names'],range(len(meta_data[b'label_names']))):\n",
    "    classifer_list.append((i,t))\n",
    "    print(\"lable = {}  | lable_name ={}\".format(t,i))\n",
    "print()\n",
    "print(\"num_vis  = {}\".format(meta_data[b'num_vis']))"
   ]
  },
  {
   "cell_type": "markdown",
   "id": "7652c5f8",
   "metadata": {},
   "source": [
    "## data in batch"
   ]
  },
  {
   "cell_type": "code",
   "execution_count": 172,
   "id": "4b168f11",
   "metadata": {},
   "outputs": [],
   "source": [
    "pub_path = 'ImgdataSet/cifar-10-batches-py/'\n",
    "data_batch = ['data_batch_1','data_batch_2','data_batch_3','data_batch_4','data_batch_5']"
   ]
  },
  {
   "cell_type": "code",
   "execution_count": 173,
   "id": "de5fe60f",
   "metadata": {},
   "outputs": [],
   "source": [
    "#將所有資料合成dict\n",
    "data = {}\n",
    "for i in data_batch:\n",
    "    temp = unpickle(pub_path+i)\n",
    "    data[i] = temp"
   ]
  },
  {
   "cell_type": "code",
   "execution_count": 174,
   "id": "18ab7a9f",
   "metadata": {},
   "outputs": [
    {
     "data": {
      "text/plain": [
       "dict_keys(['data_batch_1', 'data_batch_2', 'data_batch_3', 'data_batch_4', 'data_batch_5'])"
      ]
     },
     "execution_count": 174,
     "metadata": {},
     "output_type": "execute_result"
    }
   ],
   "source": [
    "data.keys()"
   ]
  },
  {
   "cell_type": "code",
   "execution_count": 175,
   "id": "60a87f1a",
   "metadata": {},
   "outputs": [
    {
     "name": "stdout",
     "output_type": "stream",
     "text": [
      "data_batch number : \n",
      "data_batch_1  |data_batch_2  |data_batch_3  |data_batch_4  |data_batch_5  |\n",
      "\n",
      "In one data_batch desc : \n",
      "b'batch_label'  |b'labels'  |b'data'  |b'filenames'  |"
     ]
    }
   ],
   "source": [
    "print('data_batch number : ')\n",
    "for i in data.keys():\n",
    "    print(i,end = '  |')\n",
    "print()\n",
    "print()\n",
    "print('In one data_batch desc : ')\n",
    "for i in data['data_batch_1'].keys():\n",
    "    print(i,end = '  |')"
   ]
  },
  {
   "cell_type": "code",
   "execution_count": 176,
   "id": "b2a7c8a6",
   "metadata": {},
   "outputs": [
    {
     "name": "stdout",
     "output_type": "stream",
     "text": [
      "b'leptodactylus_pentadactylus_s_000004.png'\n",
      "6\n"
     ]
    }
   ],
   "source": [
    "print(data['data_batch_1'][b'filenames'][0])\n",
    "print(data['data_batch_1'][b'labels'][0])"
   ]
  },
  {
   "cell_type": "markdown",
   "id": "30a1ff94",
   "metadata": {},
   "source": [
    "## data to Tensor"
   ]
  },
  {
   "cell_type": "code",
   "execution_count": 177,
   "id": "7e7f63bd",
   "metadata": {},
   "outputs": [],
   "source": [
    "def transImg(image):\n",
    "    image = np.array(image)\n",
    "    img = image.reshape((32, 32,3), order='F')\n",
    "    tensor = torch.from_numpy(img)\n",
    "    return tensor"
   ]
  },
  {
   "cell_type": "code",
   "execution_count": 178,
   "id": "38ed80f4",
   "metadata": {},
   "outputs": [],
   "source": [
    "temp =transImg(data['data_batch_2'][b'data'][0])\n",
    "data2 = {}"
   ]
  },
  {
   "cell_type": "code",
   "execution_count": 179,
   "id": "a26beb5f",
   "metadata": {},
   "outputs": [],
   "source": [
    "data2 = temp"
   ]
  },
  {
   "cell_type": "code",
   "execution_count": 149,
   "id": "87d2e090",
   "metadata": {},
   "outputs": [
    {
     "name": "stdout",
     "output_type": "stream",
     "text": [
      "3072\n",
      "10000\n"
     ]
    }
   ],
   "source": [
    "print(len(data['data_batch_2'][b'data'][0]))\n",
    "print(len(data['data_batch_2'][b'data']))"
   ]
  },
  {
   "cell_type": "code",
   "execution_count": 192,
   "id": "c7ee0c94",
   "metadata": {},
   "outputs": [
    {
     "name": "stdout",
     "output_type": "stream",
     "text": [
      "data_batch_1 0\n",
      "3072\n",
      "<class 'numpy.ndarray'>\n",
      "(3072,)\n",
      "<class 'torch.Tensor'>\n"
     ]
    },
    {
     "ename": "ValueError",
     "evalue": "could not broadcast input array from shape (32,32,3) into shape (3072,)",
     "output_type": "error",
     "traceback": [
      "\u001b[0;31m---------------------------------------------------------------------------\u001b[0m",
      "\u001b[0;31mValueError\u001b[0m                                Traceback (most recent call last)",
      "\u001b[0;32m<ipython-input-192-b7c771860826>\u001b[0m in \u001b[0;36m<module>\u001b[0;34m\u001b[0m\n\u001b[1;32m      9\u001b[0m \u001b[0;31m#         data[data_ind][b'data'][img_ind] = []\u001b[0m\u001b[0;34m\u001b[0m\u001b[0;34m\u001b[0m\u001b[0;34m\u001b[0m\u001b[0m\n\u001b[1;32m     10\u001b[0m         \u001b[0mprint\u001b[0m\u001b[0;34m(\u001b[0m\u001b[0mtype\u001b[0m\u001b[0;34m(\u001b[0m\u001b[0mtemp\u001b[0m\u001b[0;34m)\u001b[0m\u001b[0;34m)\u001b[0m\u001b[0;34m\u001b[0m\u001b[0;34m\u001b[0m\u001b[0m\n\u001b[0;32m---> 11\u001b[0;31m         \u001b[0mdata\u001b[0m\u001b[0;34m[\u001b[0m\u001b[0mdata_ind\u001b[0m\u001b[0;34m]\u001b[0m\u001b[0;34m[\u001b[0m\u001b[0;34mb'data'\u001b[0m\u001b[0;34m]\u001b[0m\u001b[0;34m[\u001b[0m\u001b[0mimg_ind\u001b[0m\u001b[0;34m]\u001b[0m \u001b[0;34m=\u001b[0m \u001b[0mtemp\u001b[0m\u001b[0;34m\u001b[0m\u001b[0;34m\u001b[0m\u001b[0m\n\u001b[0m\u001b[1;32m     12\u001b[0m \u001b[0;34m\u001b[0m\u001b[0m\n\u001b[1;32m     13\u001b[0m         \u001b[0;32mbreak\u001b[0m\u001b[0;34m\u001b[0m\u001b[0;34m\u001b[0m\u001b[0m\n",
      "\u001b[0;31mValueError\u001b[0m: could not broadcast input array from shape (32,32,3) into shape (3072,)"
     ]
    }
   ],
   "source": [
    "for data_ind in data.keys():\n",
    "    \n",
    "    for img_ind in range(len(data[data_ind][b'data'])):\n",
    "        print(data_ind,img_ind)\n",
    "        print(len(data[data_ind][b'data'][img_ind]))\n",
    "        temp = transImg(data[data_ind][b'data'][img_ind])\n",
    "        print(type(data[data_ind][b'data'][img_ind]))\n",
    "        print(np.shape(data[data_ind][b'data'][img_ind]))\n",
    "#         data[data_ind][b'data'][img_ind] = []\n",
    "        print(type(temp))\n",
    "        data[data_ind][b'data'][img_ind] = temp\n",
    "\n",
    "        break\n",
    "    break"
   ]
  },
  {
   "cell_type": "markdown",
   "id": "e81b7ee4",
   "metadata": {},
   "source": [
    "## show picture"
   ]
  },
  {
   "cell_type": "code",
   "execution_count": 102,
   "id": "c88b1f08",
   "metadata": {},
   "outputs": [
    {
     "name": "stdout",
     "output_type": "stream",
     "text": [
      "b'leptodactylus_pentadactylus_s_000004.png'\n",
      "[ 59  43  50 ... 140  84  72]\n",
      "6\n"
     ]
    }
   ],
   "source": [
    "print(data['data_batch_1'][b'filenames'][0])\n",
    "# print(data['data_batch_1'][b'labels'][0])\n",
    "img  = data['data_batch_1'][b'data'][0]\n",
    "class_num = data['data_batch_1'][b'labels'][0]\n",
    "print(img)\n",
    "print(class_num)"
   ]
  },
  {
   "cell_type": "code",
   "execution_count": 125,
   "id": "f87cb53f",
   "metadata": {},
   "outputs": [],
   "source": [
    "def showImg(image,class_num):\n",
    "    image = np.array(image)\n",
    "    img = image.reshape((32, 32,3), order='F')\n",
    "    plt.imshow(img)\n",
    "    plt.axis('off')\n",
    "    plt.title(\"Class is {}\".format(class_num))\n",
    "    pass"
   ]
  },
  {
   "cell_type": "code",
   "execution_count": 126,
   "id": "dfe56c50",
   "metadata": {},
   "outputs": [
    {
     "data": {
      "image/png": "[encoded data removed]",
      "text/plain": [
       "<Figure size 432x288 with 1 Axes>"
      ]
     },
     "metadata": {
      "needs_background": "light"
     },
     "output_type": "display_data"
    }
   ],
   "source": [
    "showImg(img,class_num)#v將圖案轉正"
   ]
  },
  {
   "cell_type": "markdown",
   "id": "77f6820f",
   "metadata": {},
   "source": [
    "# CNN in CPU"
   ]
  },
  {
   "cell_type": "code",
   "execution_count": 105,
   "id": "39836c8b",
   "metadata": {},
   "outputs": [],
   "source": [
    "import torch\n",
    "import torch.nn as nn"
   ]
  },
  {
   "cell_type": "markdown",
   "id": "a1fcb901",
   "metadata": {},
   "source": [
    "## 超參數設計"
   ]
  },
  {
   "cell_type": "code",
   "execution_count": 106,
   "id": "ca9f6afa",
   "metadata": {},
   "outputs": [],
   "source": [
    "EPOCH = 1        # 跑完幾次所有batchsize              \n",
    "BATCH_SIZE = 50  # 一次訓練的樣本數目\n",
    "LR = 0.001       #學習率"
   ]
  },
  {
   "cell_type": "markdown",
   "id": "2b69ce4e",
   "metadata": {},
   "source": [
    "## CNN"
   ]
  },
  {
   "cell_type": "markdown",
   "id": "0551edaa",
   "metadata": {},
   "source": [
    "積卷核的通道數要和輸入要一樣，舉例來說(32, 32,3)是本次的圖片，共有RGB的深度，所以通道數為3\n",
    "* https://kvirajdatt.medium.com/calculating-output-dimensions-in-a-cnn-for-convolution-and-pooling-layers-with-keras-682960c73870\n",
    "* conv_size = (image_size-kernel_size+padding*2)/stride + 1\n",
    "* pool_size = (image_size-pooling_size)/2 + 1  && depth is same"
   ]
  },
  {
   "cell_type": "code",
   "execution_count": 107,
   "id": "3901dc6e",
   "metadata": {},
   "outputs": [],
   "source": [
    "class cnn_net(nn.Module):\n",
    "    def __init__(self):\n",
    "        super(cnn_net,self).__init__()\n",
    "        # 建置各個類神經會用到的模組\n",
    "        # 定義一個卷積層 輸入深度為3 輸出深度16  kernel_size核大小3*3 stride步伐1 piex padding用於處理卷積的邊界情況 == stride (kernel_size-1)/2\n",
    "        self.conv1 = nn.Conv2d(in_channels=3, out_channels=10, kernel_size=3, stride=1, padding=2) #https://www.twblogs.net/a/5eec7f6b7301656afddaa356\n",
    "        # output_size =[(32-3+2*2)/1+1 =34 , 34 ,10]  \n",
    "        self.relu1 = nn.ReLU() # activation\n",
    "        self.pool = nn.MaxPool2d(kernel_size = 2, stride = 2) \n",
    "        # output_size =[ (34-2)/2+1 = 17, 17,10]  \n",
    "        \n",
    "        self.conv2 = nn.Conv2d(in_channels=10, out_channels=5, kernel_size=3, stride=1)  \n",
    "        # output_size =[(17-3)/1+1 , 15 ,5] \n",
    "        self.relu2 = nn.ReLU() # activation\n",
    "        \n",
    "        self.pool2 = nn.MaxPool2d(kernel_size = 3, stride = 2) \n",
    "        # output_size =[(15-3)/2+1 , 7,5] \n",
    "        self.fc = nn.Linear(245,10)\n",
    "        \n",
    "                 \n",
    "    def forward(self,x):\n",
    "        x = self.conv1(x)\n",
    "        x = self.relu1(x)\n",
    "        x = self.pool(x)\n",
    "        x = self.conv2(x)\n",
    "        x = self.relu2(x)\n",
    "        x = self.pool2(x)\n",
    "        out = x.view(-1)\n",
    "        out = self.fc(out)\n",
    "        \n",
    "        \n",
    "        return out\n",
    "    def retrieve_feature(self,x):\n",
    "        feature_map1 = self.relu1(x)\n",
    "        x = self.pool(x)\n",
    "        feature_map2 = self.relu1(x)\n",
    "        \n",
    "        return (feature_map1,feature_map2)"
   ]
  },
  {
   "cell_type": "raw",
   "id": "0c78f670",
   "metadata": {},
   "source": [
    "EPOCH = 1        # 跑完幾次所有batchsize              \n",
    "BATCH_SIZE = 50  # 一次訓練的樣本數目\n",
    "LR = 0.001       #學習率"
   ]
  },
  {
   "cell_type": "code",
   "execution_count": 93,
   "id": "db945ae2",
   "metadata": {},
   "outputs": [],
   "source": [
    "net = cnn_net()\n",
    "optimizer = torch.optim.Adam(net.parameters(), lr=LR)   # optimize all cnn parameters\n",
    "loss_func = nn.CrossEntropyLoss()   # the target label is not one-hotted"
   ]
  },
  {
   "cell_type": "markdown",
   "id": "a461feb4",
   "metadata": {},
   "source": [
    "## 訓練資料集整理"
   ]
  },
  {
   "cell_type": "code",
   "execution_count": null,
   "id": "d8f9ee76",
   "metadata": {},
   "outputs": [],
   "source": []
  },
  {
   "cell_type": "code",
   "execution_count": null,
   "id": "d0f9efd0",
   "metadata": {},
   "outputs": [],
   "source": []
  },
  {
   "cell_type": "code",
   "execution_count": null,
   "id": "78e301bf",
   "metadata": {},
   "outputs": [],
   "source": []
  }
 ],
 "metadata": {
  "kernelspec": {
   "display_name": "Python [conda env:computervisionforcpuonpython3_7vy]",
   "language": "python",
   "name": "conda-env-computervisionforcpuonpython3_7vy-py"
  },
  "language_info": {
   "codemirror_mode": {
    "name": "ipython",
    "version": 3
   },
   "file_extension": ".py",
   "mimetype": "text/x-python",
   "name": "python",
   "nbconvert_exporter": "python",
   "pygments_lexer": "ipython3",
   "version": "3.7.8"
  },
  "toc-autonumbering": true,
  "toc-showcode": false,
  "toc-showmarkdowntxt": true,
  "toc-showtags": false
 },
 "nbformat": 4,
 "nbformat_minor": 5
}
